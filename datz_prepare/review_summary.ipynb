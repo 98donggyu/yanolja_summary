{
 "cells": [
  {
   "cell_type": "markdown",
   "metadata": {},
   "source": [
    "# GPT API를 활용한 좋은 리뷰요약"
   ]
  },
  {
   "cell_type": "code",
   "execution_count": 1,
   "metadata": {},
   "outputs": [
    {
     "name": "stdout",
     "output_type": "stream",
     "text": [
      "Hello! How can I assist you today?\n"
     ]
    }
   ],
   "source": [
    "import os\n",
    "from openai import OpenAI\n",
    "from dotenv import load_dotenv\n",
    "\n",
    "# 환경변수 로딩\n",
    "load_dotenv('.env', override=True)\n",
    "\n",
    "# 메모리에 로딩된 값을 api_key 변수에 대입\n",
    "OPENAI_API_KEY = os.environ.get(\"OPENAI_API_KEY\")\n",
    "\n",
    "client = OpenAI(api_key=OPENAI_API_KEY)\n",
    "\n",
    "completion = client.chat.completions.create(\n",
    "    model='gpt-3.5-turbo-0125',\n",
    "    messages=[{'role': 'user', 'content': 'hi'}],\n",
    "    temperature=0.0\n",
    ")\n",
    "\n",
    "print(completion.choices[0].message.content)"
   ]
  },
  {
   "cell_type": "markdown",
   "metadata": {},
   "source": [
    "## 데이터 전처리 함수 작성\n"
   ]
  },
  {
   "cell_type": "markdown",
   "metadata": {},
   "source": [
    "리뷰 JSON 파일 로드"
   ]
  },
  {
   "cell_type": "code",
   "execution_count": 2,
   "metadata": {},
   "outputs": [
    {
     "data": {
      "text/plain": [
       "[{'review': '강릉 여행길에  들럿는데  아주 예약을 잘했어요\\n호텔이  주인의 품격이 느껴지더군요  \\n조용하고 좋습니다',\n",
       "  'stars': 5,\n",
       "  'date': '2025.02.03'},\n",
       " {'review': '로비도 고급지고 객실도 깔끔하니 너무나 만족스런1박 했습니다.\\n침구가 너무 좋아서 잘 잘수있었어요.\\n다음에 여행가면 여기에 다시 묵을겁니다',\n",
       "  'stars': 5,\n",
       "  'date': '2024.12.23'},\n",
       " {'review': '친절한 안내와 정리정돈도 잘 되어 있어 편안하게 잘수있었어요',\n",
       "  'stars': 5,\n",
       "  'date': '2024.12.09'}]"
      ]
     },
     "execution_count": 2,
     "metadata": {},
     "output_type": "execute_result"
    }
   ],
   "source": [
    "import json\n",
    "\n",
    "with open('./res/3.kyongpo_the_hongc.json', 'r') as f:\n",
    "    review_list = json.load(f)\n",
    "\n",
    "review_list[:3]"
   ]
  },
  {
   "cell_type": "markdown",
   "metadata": {},
   "source": [
    "좋은 평점 및 나쁜 평점 정의\n",
    "- 좋은 평점 = 별 5개 이상\n",
    "- 나쁜 평점 = 별 4개 이하"
   ]
  },
  {
   "cell_type": "code",
   "execution_count": 3,
   "metadata": {},
   "outputs": [
    {
     "data": {
      "text/plain": [
       "(329, 91)"
      ]
     },
     "execution_count": 3,
     "metadata": {},
     "output_type": "execute_result"
    }
   ],
   "source": [
    "good_cnt, bad_cnt = 0, 0\n",
    "for r in review_list:\n",
    "    if r['stars'] == 5:\n",
    "        good_cnt += 1\n",
    "    else:\n",
    "        bad_cnt += 1\n",
    "\n",
    "good_cnt, bad_cnt"
   ]
  },
  {
   "cell_type": "markdown",
   "metadata": {},
   "source": [
    "좋은 리뷰 및 나쁜 리뷰로 구분 후 저장"
   ]
  },
  {
   "cell_type": "code",
   "execution_count": 4,
   "metadata": {},
   "outputs": [
    {
     "data": {
      "text/plain": [
       "['[REVIEW_START]강릉 여행길에  들럿는데  아주 예약을 잘했어요\\n호텔이  주인의 품격이 느껴지더군요  \\n조용하고 좋습니다[REVIEW_END]',\n",
       " '[REVIEW_START]로비도 고급지고 객실도 깔끔하니 너무나 만족스런1박 했습니다.\\n침구가 너무 좋아서 잘 잘수있었어요.\\n다음에 여행가면 여기에 다시 묵을겁니다[REVIEW_END]',\n",
       " '[REVIEW_START]친절한 안내와 정리정돈도 잘 되어 있어 편안하게 잘수있었어요[REVIEW_END]']"
      ]
     },
     "execution_count": 4,
     "metadata": {},
     "output_type": "execute_result"
    }
   ],
   "source": [
    "reviews_good, reviews_bad = [], []\n",
    "for r in review_list:\n",
    "    if r['stars'] == 5:\n",
    "        # specital token 추가\n",
    "        reviews_good.append('[REVIEW_START]' + r['review'] + '[REVIEW_END]')\n",
    "    else:\n",
    "        # specital token 추가\n",
    "        reviews_bad.append('[REVIEW_START]' + r['review'] + '[REVIEW_END]')\n",
    "\n",
    "reviews_good[:3]"
   ]
  },
  {
   "cell_type": "markdown",
   "metadata": {},
   "source": [
    "하나의 문자열로 합치기"
   ]
  },
  {
   "cell_type": "code",
   "execution_count": 5,
   "metadata": {},
   "outputs": [
    {
     "data": {
      "text/plain": [
       "'[REVIEW_START]강릉 여행길에  들럿는데  아주 예약을 잘했어요\\n호텔이  주인의 품격이 느껴지더군요  \\n조용하고 좋습니다[REVIEW_END]\\n[REVIEW_START]로'"
      ]
     },
     "execution_count": 5,
     "metadata": {},
     "output_type": "execute_result"
    }
   ],
   "source": [
    "# good 문자, 하나의 문자열로 합치기\n",
    "reviews_good_text = '\\n'.join(reviews_good)\n",
    "reviews_good_text[:100]"
   ]
  },
  {
   "cell_type": "code",
   "execution_count": 6,
   "metadata": {},
   "outputs": [
    {
     "data": {
      "text/plain": [
       "'[REVIEW_START]방음이 좀 안되긴 한데 욕실 깨끗해서 좋아요[REVIEW_END]\\n[REVIEW_START]공사한다고 예약힐때부터 알려주면좋겠고 체크인할때 공사한다고 불편'"
      ]
     },
     "execution_count": 6,
     "metadata": {},
     "output_type": "execute_result"
    }
   ],
   "source": [
    "# bad 문자, 하나의 문자열로 합치기\n",
    "reviews_bad_text = '\\n'.join(reviews_bad)\n",
    "reviews_bad_text[:100]"
   ]
  },
  {
   "cell_type": "markdown",
   "metadata": {},
   "source": [
    "리뷰데이터 전처리를 위한 함수 작성"
   ]
  },
  {
   "cell_type": "code",
   "execution_count": 7,
   "metadata": {},
   "outputs": [
    {
     "data": {
      "text/plain": [
       "'[REVIEW_START]강릉 여행길에  들럿는데  아주 예약을 잘했어요\\n호텔이  주인의 품격이 느껴지더군요  \\n조용하고 좋습니다[REVIEW_END]\\n[REVIEW_START]로'"
      ]
     },
     "execution_count": 7,
     "metadata": {},
     "output_type": "execute_result"
    }
   ],
   "source": [
    "import datetime\n",
    "from dateutil import parser\n",
    "\n",
    "def preprocess_reviews(path):\n",
    "    with open(path, 'r', encoding='utf-8') as f:\n",
    "        # list 형태로 json 파일 일기\n",
    "        review_list = json.load(f)\n",
    "\n",
    "    # good, bad 데이터 저장 변수 초기화\n",
    "    reviews_good, reviews_bad = [], []\n",
    "\n",
    "    # 현재 이전 6개월 데이터 사용을 위해 날짜계산\n",
    "    current_date = datetime.datetime.now()\n",
    "    date_boundary = current_date - datetime.timedelta(days=6*30)\n",
    "    # print(date_boundary)\n",
    "\n",
    "    # 리뷰데이터 \n",
    "    for r in review_list:\n",
    "        review_date_str = r['date']\n",
    "        try:\n",
    "            # 리뷰 날짜 문자열을 datetime 객체로 변환\n",
    "            review_date = parser.parse(review_date_str)\n",
    "        except (ValueError, TypeError):\n",
    "            # 정상 날짜 데이터 아닌경우 현재 날짜 대입\n",
    "            review_date = current_date\n",
    "\n",
    "        # 날짜 바운더리 보다 작으면, pass\n",
    "        if review_date < date_boundary:\n",
    "            continue\n",
    "\n",
    "        # 평점 5점 기준\n",
    "        if r['stars'] == 5:\n",
    "            reviews_good.append('[REVIEW_START]' + r['review'] + '[REVIEW_END]')\n",
    "        else:\n",
    "            reviews_bad.append('[REVIEW_START]' + r['review'] + '[REVIEW_END]')\n",
    "\n",
    "    # good, bad 하나의 문자열 리스트로 합치기\n",
    "    reviews_good_text = '\\n'.join(reviews_good)\n",
    "    reviews_bad_text = '\\n'.join(reviews_bad)\n",
    "\n",
    "    # good 리뷰와 bad 리뷰 반환\n",
    "    return reviews_good_text, reviews_bad_text\n",
    "\n",
    "# 리뷰 데이터 전처리 함수 호출\n",
    "data='./res/3.kyongpo_the_hongc.json'\n",
    "good, bad = preprocess_reviews(data)\n",
    "good[:100]"
   ]
  },
  {
   "cell_type": "code",
   "execution_count": 8,
   "metadata": {},
   "outputs": [
    {
     "data": {
      "text/plain": [
       "'[REVIEW_START]방음이 좀 안되긴 한데 욕실 깨끗해서 좋아요[REVIEW_END]\\n[REVIEW_START]공사한다고 예약힐때부터 알려주면좋겠고 체크인할때 공사한다고 불편'"
      ]
     },
     "execution_count": 8,
     "metadata": {},
     "output_type": "execute_result"
    }
   ],
   "source": [
    "bad[:100]"
   ]
  },
  {
   "cell_type": "markdown",
   "metadata": {},
   "source": [
    "### 평가용 함수 작성"
   ]
  },
  {
   "cell_type": "markdown",
   "metadata": {},
   "source": [
    "평가 기준 설정\n",
    "- MT-Bench 논문 기반 Pairwise Comparision (=LLM 기반 평가)\n",
    "  - 비교하는 방식 vs. 점수 매기는 방식\n",
    "  - 점수라는게 애매 할 수 있음 (ex. 어느 정도의 요약 품질이 3점인가?)\n",
    "  - 경험상 점수보다는 비교가 상대적으로 더 정확한 편"
   ]
  },
  {
   "cell_type": "markdown",
   "metadata": {},
   "source": [
    "평가 스크립트 작성\n",
    "- MT-Bench 논문 Prompt에서 일부 단어만 수정 (ex. Korean summaries, accommodations)\n",
    "    - [[A]] – 어시스턴트 A가 더 나을 경우\n",
    "    - [[B]] – 어시스턴트 B가 더 나을 경우\n",
    "    - [[C]] – 두 응답이 동등한 품질일 경우"
   ]
  },
  {
   "cell_type": "code",
   "execution_count": 10,
   "metadata": {},
   "outputs": [],
   "source": [
    "# def pairwise_eval(리뷰원본, AI_a, AI_b):\n",
    "def pairwise_eval(reviews, answer_a, answer_b):\n",
    "    # 평가 프롬프트 \n",
    "    eval_prompt = f\"\"\"[System]\n",
    "Please act as an impartial judge and evaluate the quality of the Korean summaries provided by two\n",
    "AI assistants to the set of user reviews on accommodations displayed below. You should choose the assistant that\n",
    "follows the user's instructions and answers the user's question better. Your evaluation\n",
    "should consider factors such as the helpfulness, relevance, accuracy, depth, creativity,\n",
    "and level of detail of their responses. Begin your evaluation by comparing the two\n",
    "responses and provide a short explanation. Avoid any position biases and ensure that the\n",
    "order in which the responses were presented does not influence your decision. Do not allow\n",
    "the length of the responses to influence your evaluation. Do not favor certain names of\n",
    "the assistants. Be as objective as possible. After providing your explanation, output your\n",
    "final verdict by strictly following this format: \"[[A]]\" if assistant A is better, \"[[B]]\"\n",
    "if assistant B is better, and \"[[C]]\" for a tie.\n",
    "[User Reviews]\n",
    "{reviews}\n",
    "\n",
    "[The Start of Assistant A's Answer]\n",
    "{answer_a}\n",
    "[The End of Assistant A's Answer]\n",
    "\n",
    "[The Start of Assistant B's Answer]\n",
    "{answer_b}\n",
    "[The End of Assistant B's Answer]\"\"\"\n",
    "    \n",
    "    # OpenAI API를 사용하여 평가 요청\n",
    "    completion = client.chat.completions.create(\n",
    "        model='gpt-4o-2024-05-13',\n",
    "        messages=[{'role': 'user', 'content': eval_prompt}],\n",
    "        temperature=0.0\n",
    "    )\n",
    "\n",
    "    return completion.choices[0].message.content"
   ]
  },
  {
   "cell_type": "markdown",
   "metadata": {},
   "source": [
    "### Baseline 응답 개발"
   ]
  },
  {
   "cell_type": "code",
   "execution_count": 11,
   "metadata": {},
   "outputs": [],
   "source": [
    "PROMPT_BASELINE = f\"\"\"아래 숙소 리뷰에 대해 5문장 내로 요약해줘:\"\"\""
   ]
  },
  {
   "cell_type": "code",
   "execution_count": 12,
   "metadata": {},
   "outputs": [],
   "source": [
    "# 높은 평점만 리뷰 데이터만 받음음\n",
    "reviews, _ = preprocess_reviews(path='./res/3.kyongpo_the_hongc.json')"
   ]
  },
  {
   "cell_type": "markdown",
   "metadata": {},
   "source": [
    "### 리뷰 데이터 요약 함수 정의 및 실행"
   ]
  },
  {
   "cell_type": "code",
   "execution_count": 13,
   "metadata": {},
   "outputs": [
    {
     "name": "stdout",
     "output_type": "stream",
     "text": [
      "강릉 여행 중 예약한 호텔은 주인의 품격이 느껴지며 조용하고 좋았다. 로비와 객실이 고급스럽고 깔끔해서 만족스러운 1박을 했고, 침구가 편안해서 잘 잘 수 있었다. 친절한 안내와 청결한 환경으로 편안하게 머물렀고, 위치도 좋아서 잘 쉬고 갔다. 부모님도 만족하셨고, 직원들도 친절하고 좋았다.\n"
     ]
    }
   ],
   "source": [
    "def summarize(reviews, prompt, temperature=0.0, model='gpt-3.5-turbo-0125'):\n",
    "    prompt = prompt + '\\n\\n' + reviews\n",
    "\n",
    "    completion = client.chat.completions.create(\n",
    "        model=model,\n",
    "        messages=[{'role': 'user', 'content': prompt}],\n",
    "        temperature=temperature\n",
    "    )\n",
    "\n",
    "    return completion.choices[0].message.content\n",
    "\n",
    "print(summarize(reviews, PROMPT_BASELINE))"
   ]
  },
  {
   "cell_type": "markdown",
   "metadata": {},
   "source": [
    "## 응답결과 평가하기"
   ]
  },
  {
   "cell_type": "markdown",
   "metadata": {},
   "source": [
    "대조군 문장 정의하기"
   ]
  },
  {
   "cell_type": "code",
   "execution_count": 14,
   "metadata": {},
   "outputs": [
    {
     "data": {
      "text/plain": [
       "'이 숙소는 청결하고 침구 상태가 좋으며, 직원들이 친절하다는 평가가 많습니다. 위치가 좋고 조용해서 편안하게 쉴 수 있는 곳으로 추천됩니다. 로비와 객실이 고급스럽고 깔끔하다는 점도 언급되었습니다. 다만, 배달음식 이용이 제한된다는 점이 아쉽다는 의견이 있습니다. 전반적으로 재방문 의사가 많고 만족도가 높은 숙소입니다.'"
      ]
     },
     "execution_count": 14,
     "metadata": {},
     "output_type": "execute_result"
    }
   ],
   "source": [
    "# 대조군 문장 가져오기(야놀자 AI good 요약 문장)\n",
    "# summary_real_20250530 = '숙소는 강릉 경포해변 바로 앞에 위치하며, 오션뷰와 경포호수 전망을 제공합니다. 객실과 화장실이 청결하게 관리되고 있으며, 편안한 침대와 고급 침구로 쾌적한 숙박 환경을 제공합니다. 주변에 식당과 편의시설이 가까워 접근성이 좋고, 주차 공간도 넓습니다. 직원들의 친절한 응대와 서비스도 긍정적인 평가를 받고 있으며, 대체로 소음 차단이 잘 이루어져 조용한 환경에서 휴식을 취할 수 있습니다. 전반적으로 방문자들은 숙소의 청결도와 편안함, 아늑한 분위기에 매우 만족하는 후기를 남기고 있습니다.'\n",
    "\n",
    "summary_4o_20250530 = summarize(reviews, PROMPT_BASELINE, temperature=0.0, model='gpt-4o-2024-05-13')\n",
    "summary_4o_20250530"
   ]
  },
  {
   "cell_type": "code",
   "execution_count": 15,
   "metadata": {},
   "outputs": [
    {
     "name": "stdout",
     "output_type": "stream",
     "text": [
      "Both Assistant A and Assistant B provided summaries that capture the essence of the user reviews. However, there are some differences in their approaches and the details they included.\n",
      "\n",
      "1. **Helpfulness and Relevance**:\n",
      "   - **Assistant A**: Provides a more narrative summary, capturing the overall experience of the guests, including the quality of the hotel, the cleanliness, the friendliness of the staff, and the good location.\n",
      "   - **Assistant B**: Offers a more structured summary, highlighting specific positive aspects such as cleanliness, good bedding, friendly staff, and good location. It also mentions a specific negative point about the restriction on delivery food.\n",
      "\n",
      "2. **Accuracy**:\n",
      "   - Both assistants accurately reflect the positive feedback about cleanliness, friendly staff, good location, and overall satisfaction. However, Assistant B includes a specific negative point about the restriction on delivery food, which is mentioned in one of the reviews.\n",
      "\n",
      "3. **Depth and Detail**:\n",
      "   - **Assistant A**: Provides a more general overview without delving into specific details or negative points.\n",
      "   - **Assistant B**: Includes specific details such as the restriction on delivery food and the high likelihood of guests wanting to revisit, which adds depth to the summary.\n",
      "\n",
      "4. **Creativity**:\n",
      "   - Both summaries are straightforward and factual, with no significant difference in creativity.\n",
      "\n",
      "5. **Level of Detail**:\n",
      "   - **Assistant B**: Provides a slightly more detailed summary by including both positive and negative aspects, which gives a more balanced view of the accommodation.\n",
      "\n",
      "Considering these factors, Assistant B's summary is more comprehensive and balanced, providing a clearer picture of both the positive and negative aspects of the accommodation.\n",
      "\n",
      "Final Verdict: [[B]]\n"
     ]
    }
   ],
   "source": [
    "# 비교하기\n",
    "# pairwise_eval(리뷰 데이터, AI 요약한 데이터_A, 대조군 AI 문장_B))\n",
    "print(pairwise_eval(reviews, summarize(reviews, PROMPT_BASELINE), summary_4o_20250530))"
   ]
  },
  {
   "cell_type": "markdown",
   "metadata": {},
   "source": [
    "## 대규모 평가 스크립트\n",
    "- 원래는 많은 수의 다양한 데이터에 대해 평가를 하지만, 동일한 Prompt에 대해 temperature 높여서 평가 진행"
   ]
  },
  {
   "cell_type": "code",
   "execution_count": 25,
   "metadata": {},
   "outputs": [
    {
     "data": {
      "text/plain": [
       "['강릉 여행 중 예약한 호텔은 주인의 품격이 느껴지며 조용하고 좋았다. 로비와 객실이 고급스럽고 깔끔하여 만족스러웠고, 친절한 안내와 정리가 잘 되어 있어 편안하게 숙박했다. 숙소는 깨끗하고 위치가 좋아 쉬기에 좋았으며, 부모님도 만족했다고 한다. 다만 외부 음식 관련 사전 안내가 필요하다고 하는 글도 있으니 주의가 필요하다.',\n",
       " '강릉 여행 중 예약한 숙소는 주인의 품격을 느낄 수 있는 조용하고 깔끔한 곳이었고, 친절한 안내와 청결한 시설로 만족스러웠다. 위치도 좋고 침구도 편안하여 잘 쉴 수 있었으며, 직원들의 친절함과 완벽한 서비스로 부모님도 만족했다. 잘정돈된 객실과 깨끗한 시설로 편안한 숙박을 경험할 수 있었고, 조식 샌드위치도 맛있어 재방문 의사가 생겼다. 위치가 편리하고 깔끔한 숙소로 푹 쉬고 나다가, 포근하고 깨끗한 숙소에서 편안한 휴식을 취할 수 있었고, 직원들의 친절함과 청결한 시설에 감동했다.',\n",
       " '강릉 여행길에 예약을 잘한 호텔로, 주인의 품격이 느껴지며 조용하고 좋은 곳. 대부분의 리뷰에서 친절한 서비스와 깨끗한 시설에 만족을 표현하는 내용이 반복되며, 몇몇 리뷰에서는 외부 음식 주문이 어려워 아쉬움을 표현하는 것도 있음. 전체적으로 편안하고 만족스러운 투숙 경험을 강조하는 리뷰들이 많음.',\n",
       " '강릉 여행 중 예약한 호텔은 주인의 품격이 느껴지며 조용하고 좋았다. 로비와 객실이 고급스럽고 깔끔해서 만족스러웠고, 침구도 편안해서 잘 잤다. 부모님도 만족하셨고, 직원들의 친절에 감사하며 깨끗하고 혼자 사용하기에 넓어서 좋았다. 위치가 좋고 주변 인프라가 편리해서 추천한다.',\n",
       " '강릉 여행동안 예약 잘한 조용하고 고급스러운 호텔, 깔끔한 객실과 침구로 만족스러운 1박, 친절한 안내와 청결한 숙박, 위치 좋고 깨끗한 곳으로 잘 쉬었음, 가족 여행에도 만족스러운 숙소 묵음.',\n",
       " '강릉 여행길에 예약을 잘한 호텔로 품격이 느껴졌고 조용하고 깨끗한 객실에 만족했습니다. 다음에도 또 묵고 싶은 친절하고 청결한 숙소예요.',\n",
       " '강릉 여행 중 예약한 호텔은 매우 만족스럽고 조용하며 품격 있었다. 시설이 깔끔하고 침구도 편안하여 휴식을 즐길 수 있었으며, 직원들의 친절한 안내로 편안한 숙박이 가능했다. 위치가 좋고 편안한 휴식을 취할 수 있으며, 다만 외부 음식 주문에 대한 안내가 미흡했다는 의견이 있었다. 호텔은 깨끗하고 편안하며, 특히 조식 샌드위치가 맛있다고 평가받았다.',\n",
       " '다양한 리뷰가 있지만, 대부분의 손님들이 호텔의 깨끗함과 친절한 직원에 만족했다는 점이 두드러진다. 위치와 시설에 대한 양극화된 의견도 있었지만, 전반적으로 편안하게 지낼 수 있는 숙소로 평가받았다.',\n",
       " '강릉 여행길에 예약한 호텔은 주인의 품격이 느껴지며 조용하고 좋다. 로비와 객실이 고급스럽고 침구가 편안하며 안내도 친절하다. 깨끗하고 위치가 좋아서 편안히 쉴 수 있었고 부모님도 만족해했다. 하지만 외부 음식 관련 안내가 더 필요한 것으로 보인다.',\n",
       " '강릉 여행 중 예약한 호텔은 소유자의 품격이 느껴지며 조용하고 좋았고, 다른 고객들은 호텔의 로비와 객실이 고급스럽고 깔끔하며 침구도 편안하고 메인 재방문을 의향을 표현하고 있습니다. 부모님도 만족하셨고 직원들이 친절했다는 내용이 포함되어 있습니다. 위치도 좋고 청결해 추천된다고 하며, 음식 관련 안내는 사전에 필요한 정보라는 의견도 있습니다.']"
      ]
     },
     "execution_count": 25,
     "metadata": {},
     "output_type": "execute_result"
    }
   ],
   "source": [
    "# 같은 리뷰에 대해서 요약을 10번 수행(일반적으로는 50~100번 수행하면 좋음)\n",
    "eval_count = 10\n",
    "\n",
    "summaries_baseline = [summarize(reviews, PROMPT_BASELINE, temperature=1.0) for _ in range(eval_count)]\n",
    "summaries_baseline"
   ]
  },
  {
   "cell_type": "code",
   "execution_count": 26,
   "metadata": {},
   "outputs": [
    {
     "data": {
      "text/plain": [
       "['이 숙소는 청결하고 침구 상태가 좋으며, 직원들이 친절하다는 평가가 많습니다. 위치가 좋고 조용해서 편안하게 쉴 수 있는 곳으로 추천됩니다. 로비와 객실이 고급스럽고 깔끔하다는 점도 언급되었습니다. 다만, 배달음식 이용이 제한된다는 점이 아쉽다는 의견이 있습니다. 전반적으로 재방문 의사가 많고 만족도가 높은 숙소입니다.',\n",
       " '이 숙소는 청결하고 침구 상태가 좋으며, 직원들이 친절하다는 평가가 많습니다. 위치가 좋고 조용해서 편안하게 쉴 수 있는 곳으로 추천됩니다. 로비와 객실이 고급스럽고 깔끔하다는 점도 언급되었습니다. 다만, 배달음식 이용이 제한된다는 점이 아쉽다는 의견이 있습니다. 전반적으로 재방문 의사가 많고 만족도가 높은 숙소입니다.',\n",
       " '이 숙소는 청결하고 침구 상태가 좋으며, 직원들이 친절하다는 평가가 많습니다. 위치가 좋고 조용해서 편안하게 쉴 수 있는 곳으로 추천됩니다. 로비와 객실이 고급스럽고 깔끔하다는 점도 언급되었습니다. 다만, 배달음식 이용이 제한된다는 점이 아쉽다는 의견이 있습니다. 전반적으로 재방문 의사가 많고 만족도가 높은 숙소입니다.',\n",
       " '이 숙소는 청결하고 침구 상태가 좋으며, 직원들이 친절하다는 평가가 많습니다. 위치가 좋고 조용해서 편안하게 쉴 수 있는 곳으로 추천됩니다. 로비와 객실이 고급스럽고 깔끔하다는 점도 언급되었습니다. 다만, 배달음식 이용이 제한된다는 점이 아쉽다는 의견이 있습니다. 전반적으로 재방문 의사가 많고 만족도가 높은 숙소입니다.',\n",
       " '이 숙소는 청결하고 침구 상태가 좋으며, 직원들이 친절하다는 평가가 많습니다. 위치가 좋고 조용해서 편안하게 쉴 수 있는 곳으로 추천됩니다. 로비와 객실이 고급스럽고 깔끔하다는 점도 언급되었습니다. 다만, 배달음식 이용이 제한된다는 점이 아쉽다는 의견이 있습니다. 전반적으로 재방문 의사가 많고 만족도가 높은 숙소입니다.',\n",
       " '이 숙소는 청결하고 침구 상태가 좋으며, 직원들이 친절하다는 평가가 많습니다. 위치가 좋고 조용해서 편안하게 쉴 수 있는 곳으로 추천됩니다. 로비와 객실이 고급스럽고 깔끔하다는 점도 언급되었습니다. 다만, 배달음식 이용이 제한된다는 점이 아쉽다는 의견이 있습니다. 전반적으로 재방문 의사가 많고 만족도가 높은 숙소입니다.',\n",
       " '이 숙소는 청결하고 침구 상태가 좋으며, 직원들이 친절하다는 평가가 많습니다. 위치가 좋고 조용해서 편안하게 쉴 수 있는 곳으로 추천됩니다. 로비와 객실이 고급스럽고 깔끔하다는 점도 언급되었습니다. 다만, 배달음식 이용이 제한된다는 점이 아쉽다는 의견이 있습니다. 전반적으로 재방문 의사가 많고 만족도가 높은 숙소입니다.',\n",
       " '이 숙소는 청결하고 침구 상태가 좋으며, 직원들이 친절하다는 평가가 많습니다. 위치가 좋고 조용해서 편안하게 쉴 수 있는 곳으로 추천됩니다. 로비와 객실이 고급스럽고 깔끔하다는 점도 언급되었습니다. 다만, 배달음식 이용이 제한된다는 점이 아쉽다는 의견이 있습니다. 전반적으로 재방문 의사가 많고 만족도가 높은 숙소입니다.',\n",
       " '이 숙소는 청결하고 침구 상태가 좋으며, 직원들이 친절하다는 평가가 많습니다. 위치가 좋고 조용해서 편안하게 쉴 수 있는 곳으로 추천됩니다. 로비와 객실이 고급스럽고 깔끔하다는 점도 언급되었습니다. 다만, 배달음식 이용이 제한된다는 점이 아쉽다는 의견이 있습니다. 전반적으로 재방문 의사가 많고 만족도가 높은 숙소입니다.',\n",
       " '이 숙소는 청결하고 침구 상태가 좋으며, 직원들이 친절하다는 평가가 많습니다. 위치가 좋고 조용해서 편안하게 쉴 수 있는 곳으로 추천됩니다. 로비와 객실이 고급스럽고 깔끔하다는 점도 언급되었습니다. 다만, 배달음식 이용이 제한된다는 점이 아쉽다는 의견이 있습니다. 전반적으로 재방문 의사가 많고 만족도가 높은 숙소입니다.']"
      ]
     },
     "execution_count": 26,
     "metadata": {},
     "output_type": "execute_result"
    }
   ],
   "source": [
    "pairwise_words = [summary_4o_20250530 for _ in range(len(summaries_baseline))]\n",
    "pairwise_words"
   ]
  },
  {
   "cell_type": "markdown",
   "metadata": {},
   "source": [
    "- 대규모 데이터를 비교평가"
   ]
  },
  {
   "cell_type": "code",
   "execution_count": 27,
   "metadata": {},
   "outputs": [
    {
     "name": "stderr",
     "output_type": "stream",
     "text": [
      "100%|██████████| 10/10 [00:44<00:00,  4.43s/it]"
     ]
    },
    {
     "name": "stdout",
     "output_type": "stream",
     "text": [
      "Wins: 4, Losses: 6, Ties: 0\n"
     ]
    },
    {
     "name": "stderr",
     "output_type": "stream",
     "text": [
      "\n"
     ]
    }
   ],
   "source": [
    "\n",
    "from tqdm import tqdm\n",
    "\n",
    "def pairwise_eval_batch(reviews, answers_a, answers_b):\n",
    "    a_cnt, b_cnt, draw_cnt = 0, 0, 0\n",
    "    for i in tqdm(range(len(answers_a))):\n",
    "        # 최종 결과\n",
    "        verdict_text = pairwise_eval(reviews, answers_a[i], answers_b[i])\n",
    "\n",
    "        # A인경우 카운트\n",
    "        if '[[A]]' in verdict_text:\n",
    "            a_cnt += 1\n",
    "        # B인경우 카운트\n",
    "        elif '[[B]]' in verdict_text:\n",
    "            b_cnt += 1\n",
    "        # C인경우 카운트\n",
    "        elif '[[C]]' in verdict_text:\n",
    "            draw_cnt += 1\n",
    "        # 나머지\n",
    "        else:\n",
    "            print('Evaluation Error')\n",
    "    # a good, b bad, c 무승부 비슷함.\n",
    "    return a_cnt, b_cnt, draw_cnt\n",
    "\n",
    "# 요약한 것과 대조군 비교\n",
    "wins, losses, ties = pairwise_eval_batch(reviews, summaries_baseline, [summary_4o_20250530 for _ in range(len(summaries_baseline))])\n",
    "print(f'Wins: {wins}, Losses: {losses}, Ties: {ties}')"
   ]
  },
  {
   "cell_type": "markdown",
   "metadata": {},
   "source": [
    "### 응답결과 고도화 1 - 요약 조건들 명시 후 평가\n",
    "- role과 수행 목표 정의\n",
    "- 요약 결과에 대한 충족 조건\n",
    "    - 톤엔 매너와 예시\n",
    "    - 요약 결과에 갯수"
   ]
  },
  {
   "cell_type": "code",
   "execution_count": 28,
   "metadata": {},
   "outputs": [
    {
     "name": "stderr",
     "output_type": "stream",
     "text": [
      "100%|██████████| 10/10 [00:51<00:00,  5.10s/it]"
     ]
    },
    {
     "name": "stdout",
     "output_type": "stream",
     "text": [
      "Wins: 9, Losses: 1, Ties: 0\n"
     ]
    },
    {
     "name": "stderr",
     "output_type": "stream",
     "text": [
      "\n"
     ]
    }
   ],
   "source": [
    "prompt = f\"\"\"당신은 요약 전문가입니다. 사용자 숙소 리뷰들이 주어졌을 때 요약하는 것이 당신의 목표입니다.\n",
    "\n",
    "요약 결과는 다음 조건들을 충족해야 합니다:\n",
    "1. 모든 문장은 항상 존댓말로 끝나야 합니다.\n",
    "2. 숙소에 대해 소개하는 톤앤매너로 작성해주세요.\n",
    "  2-1. 좋은 예시\n",
    "    a) 전반적으로 좋은 숙소였고 방음도 괜찮았다는 평입니다.\n",
    "    b) 재방문 예정이라는 평들이 존재합니다.\n",
    "  2-2. 나쁜 예시\n",
    "    a) 좋은 숙소였고 방음도 괜찮았습니다.\n",
    "    b) 재방문 예정입니다.\n",
    "3. 요약 결과는 최소 2문장, 최대 5문장 사이로 작성해주세요.\n",
    "    \n",
    "아래 숙소 리뷰들에 대해 요약해주세요:\"\"\"\n",
    "\n",
    "eval_count = 10\n",
    "summaries = [summarize(reviews, prompt, temperature=1.0) for _ in range(eval_count)]\n",
    "wins, losses, ties = pairwise_eval_batch(reviews, summaries, [summary_4o_20250530 for _ in range(len(summaries))])\n",
    "print(f'Wins: {wins}, Losses: {losses}, Ties: {ties}')"
   ]
  },
  {
   "cell_type": "markdown",
   "metadata": {},
   "source": [
    "### 응답결과 고도화 2 - 입력 데이터의 품질 증가\n",
    "- 리뷰 길이가 짧은 것 필터링함, 고품질 리뷰만 남김"
   ]
  },
  {
   "cell_type": "code",
   "execution_count": 30,
   "metadata": {},
   "outputs": [],
   "source": [
    "import datetime\n",
    "from dateutil import parser\n",
    "\n",
    "def preprocess_reviews(path='./res/3.kyongpo_the_hongc.json'):\n",
    "    with open(path, 'r', encoding='utf-8') as f:\n",
    "        review_list = json.load(f)\n",
    "\n",
    "    reviews_good, reviews_bad = [], []\n",
    "\n",
    "    current_date = datetime.datetime.now()\n",
    "    date_boundary = current_date - datetime.timedelta(days=6*30)\n",
    "\n",
    "    filtered_cnt = 0\n",
    "    for r in review_list:\n",
    "        review_date_str = r['date']\n",
    "        try:\n",
    "            review_date = parser.parse(review_date_str)\n",
    "        except (ValueError, TypeError):\n",
    "            review_date = current_date\n",
    "\n",
    "        if review_date < date_boundary:\n",
    "            continue\n",
    "\n",
    "        # 고품질 리뷰만 남김\n",
    "        if len(r['review']) < 30:\n",
    "            filtered_cnt += 1\n",
    "            # print(r['review'])\n",
    "            continue\n",
    "\n",
    "        if r['stars'] == 5:\n",
    "            reviews_good.append('[REVIEW_START]' + r['review'] + '[REVIEW_END]')\n",
    "        else:\n",
    "            reviews_bad.append('[REVIEW_START]' + r['review'] + '[REVIEW_END]')\n",
    "\n",
    "    # 최대 길이가 50까지 되도로 자름 \n",
    "    reviews_good = reviews_good[:min(len(reviews_good), 50)]\n",
    "    reviews_bad = reviews_bad[:min(len(reviews_bad), 50)]\n",
    "\n",
    "    reviews_good_text = '\\n'.join(reviews_good)\n",
    "    reviews_bad_text = '\\n'.join(reviews_bad)\n",
    "\n",
    "    return reviews_good_text, reviews_bad_text\n",
    "\n",
    "reviews, _ = preprocess_reviews()"
   ]
  },
  {
   "cell_type": "code",
   "execution_count": 31,
   "metadata": {},
   "outputs": [
    {
     "name": "stderr",
     "output_type": "stream",
     "text": [
      "100%|██████████| 10/10 [01:38<00:00,  9.84s/it]"
     ]
    },
    {
     "name": "stdout",
     "output_type": "stream",
     "text": [
      "Wins: 9, Losses: 1, Ties: 0\n"
     ]
    },
    {
     "name": "stderr",
     "output_type": "stream",
     "text": [
      "\n"
     ]
    }
   ],
   "source": [
    "# 평가 테스트\n",
    "eval_count = 10\n",
    "summaries = [summarize(reviews, prompt, temperature=1.0, model='gpt-3.5-turbo-0125') for _ in range(eval_count)]\n",
    "wins, losses, ties = pairwise_eval_batch(reviews, summaries, [summary_4o_20250530 for _ in range(len(summaries))])\n",
    "print(f'Wins: {wins}, Losses: {losses}, Ties: {ties}')"
   ]
  },
  {
   "cell_type": "markdown",
   "metadata": {},
   "source": [
    "### 응답결과 고도화 3 - One-Shot Prompting"
   ]
  },
  {
   "cell_type": "code",
   "execution_count": 32,
   "metadata": {},
   "outputs": [
    {
     "name": "stderr",
     "output_type": "stream",
     "text": [
      "100%|██████████| 10/10 [00:38<00:00,  3.82s/it]"
     ]
    },
    {
     "name": "stdout",
     "output_type": "stream",
     "text": [
      "Wins: 9, Losses: 1, Ties: 0\n"
     ]
    },
    {
     "name": "stderr",
     "output_type": "stream",
     "text": [
      "\n"
     ]
    }
   ],
   "source": [
    "reviews_1shot, _ = preprocess_reviews('./res/3.kyongpo_the_hongc.json')\n",
    "summary_1shot = summarize(reviews_1shot, prompt, temperature=0.0, model='gpt-3.5-turbo-0125')\n",
    "prompt_1shot = f\"\"\"당신은 요약 전문가입니다. 사용자 숙소 리뷰들이 주어졌을 때 요약하는 것이 당신의 목표입니다.\n",
    "\n",
    "요약 결과는 다음 조건들을 충족해야 합니다:\n",
    "1. 모든 문장은 항상 존댓말로 끝나야 합니다.\n",
    "2. 숙소에 대해 소개하는 톤앤매너로 작성해주세요.\n",
    "  2-1. 좋은 예시\n",
    "    a) 전반적으로 좋은 숙소였고 방음도 괜찮았다는 평입니다.\n",
    "    b) 재방문 예정이라는 평들이 존재합니다.\n",
    "  2-2. 나쁜 예시\n",
    "    a) 좋은 숙소였고 방음도 괜찮았습니다.\n",
    "    b) 재방문 예정입니다.\n",
    "3. 요약 결과는 최소 2문장, 최대 5문장 사이로 작성해주세요.\n",
    "\n",
    "다음은 리뷰들과 요약 예시입니다.\n",
    "예시 리뷰들:\n",
    "{reviews_1shot}\n",
    "예시 요약 결과:\n",
    "{summary_1shot}\n",
    "    \n",
    "아래 숙소 리뷰들에 대해 요약해주세요:\"\"\"\n",
    "\n",
    "summaries = [summarize(reviews, prompt, temperature=1.0, model='gpt-3.5-turbo-0125') for _ in range(eval_count)]\n",
    "wins, losses, ties = pairwise_eval_batch(reviews, summaries, [summary_4o_20250530 for _ in range(len(summaries))])\n",
    "print(f'Wins: {wins}, Losses: {losses}, Ties: {ties}')"
   ]
  },
  {
   "cell_type": "code",
   "execution_count": 33,
   "metadata": {},
   "outputs": [
    {
     "data": {
      "text/plain": [
       "['강릉 여행길에 들르면 아주 예약을 잘한 호텔이었습니다. 주인의 품격이 느껴지고 조용하고 좋았어요. 로비도 고급지고 객실도 깔끔해서 너무 만족스러운 1박이었고 다음에 여행가면 다시 묵을 것입니다. 친절한 안내와 정리정돈도 잘 되어 있어 편안하게 잘 수 있었습니다. 부모님께 예약해드린 숙소에서 너무 만족하셨다고 합니다. 객실이 깨끗하고 편안해서 좋았고 직원분들도 너무 친절하셨습니다.',\n",
       " '강릉 여행길에 드러놓은 숙소는 예약을 잘한 것 같습니다. 주인의 품격이 느껴지며 조용하고 좋은 분위기를 자랑합니다. 홀과 객실이 고급스러워 만족스러운 1박을 보낸 여행객도 있었고, 친절한 안내와 청결한 환경으로 편안한 숙박을 경험한 다른 손님들도 계셨습니다.전체적으로 만족스러운 숙소로 다양한 리뷰들이 모두 좋은 평가를 받았습니다.',\n",
       " '강릉 여행길에 들르게 되어 아주 예약을 잘한 것 같아요. 호텔에서는 주인의 품격이 느껴졌고, 조용하고 편안했어요. 로비도 고급스럽고 객실도 깔끔해서 너무 만족스러운 1박이었어요. 침구가 너무 좋아서 잠도 편안했고, 다음에 또 방문할 의향이 있습니다. 요구사항에 따라 외부 음식 관련 안내가 필요한 것이 아쉬운 점이지만, 시설은 깨끗하고 편안하고 주변 인프라가 좋아 추천할 만한 숙소입니다. 직원분들도 친절하고 청결하며 기분 좋은 시간을 보낼 수 있어 좋았어요.',\n",
       " '강릉 여행길에 들렸는데 아주 예약을 잘한 것 같아요. 호텔에서는 주인의 품격이 느껴져서 조용하고 좋았어요. 다음에 여행을 또 온다면 여기에 다시 머무르고 싶을 정도로 만족스러운 숙소였습니다. 부모님도 너무 만족하셨다고 하셔서 기뻐요. 쾌적하고 아늑하며 침구류도 깨끗했어요. 프론트 데스크 분들도 친절하시고 체크인 시간보다 일찍 도착해도 빠르게 처리해주셔서 감사했어요. 종합적으로 깨끗하고 편안한 시설, 친절한 서비스로 추천할 만한 숙소였습니다.',\n",
       " '강릉 여행길에 들렀는데 아주 예약을 잘한 숙소입니다. 호텔에서는 주인의 품격이 느껴지며, 조용하고 좋은 분위기를 느끼실 수 있습니다. 로비도 고급스럽고 객실은 깔끔하여, 편안하고 만족스러운 1박을 보낼 수 있습니다. 침구가 훌륭해서 편안한 휴식을 취할 수 있고, 다음에 여행을 오게 되면 다시 이 숙소에 묵을 계획입니다. 부모님을 위한 예약도 만족스러웠고, 깨끗하고 아늑한 분위기를 느끼실 수 있었습니다. 해드렸는데 윗층 소음이 조금 아쉬웠으나, 프론트 분들의 친절함과 청결한 객실로 편안한 휴식을 취할 수 있었습니다. 종합적으로 편안하고 깨끗한 분위기를 제공하며, 다양한 서비스와 편의시설을 제공하는 이 숙소는 추천드립니다.',\n",
       " '강릉 여행길에 들르게 되어 아주 예약을 잘한 숙소였습니다. 호텔은 주인의 품격이 느껴지며 조용하고 좋은 분위기를 느낄 수 있었습니다. 객실은 고급스러우며 깔끔하여 만족스러운 1박을 했습니다. 침구도 편안하여 잘 수 있었고, 다음에 여행을 가면 여기에 다시 머물고 싶다는 생각이 들 정도로 좋았습니다. 위치가 교동에 있어 오가기 편하며, 직원들도 친절하여 편안하게 잘 쉬었다고 하셨습니다. 다만 윗층에서 아이들 소리가 들려서 방음이 조금 아쉬운 부분인 것 같습니다. 전체적으로 깨끗하고 편안한 휴식을 취할 수 있는 좋은 숙소였습니다.',\n",
       " '강릉 여행길에 들렀을 때 아주 예약을 잘 하셨습니다. 호텔에서는 주인의 품격이 느껴지며 조용하고 좋은 환경을 제공합니다. 고급 로비와 깔끔한 객실에서 편안한 1박을 즐기고 다음 여행 때도 묵을 의향이 있다고 합니다. 부모님도 만족하셔서 기뻐하고, 직원분들도 모두 친절하신 듯 합니다. 시설이 깔끔하고 주변 인프라도 좋지만 외부 음식 관련 사전 안내가 필요한 부분도 있습니다.열정적인 프론트 스태프와 좋은 시설에서 편안한 휴식을 취하여 다음 방문에 대한 의사를 강렬하게 밝혔습니다. 위치가 편리하고 깨끗한 숙소로 손님을 맞이하는 분위기가 좋으며, 강릉을 방문하는데 좋은 선택이 될 것입니다.',\n",
       " '강릉 여행길에 들르는데 아주 예약을 잘했습니다. 호텔은 주인의 품격이 느껴져 조용하고 좋았습니다. 로비도 고급스럽고 객실도 깔끔해서 너무 만족스러운 1박을 했습니다. 침구가 훌륭해서 편안히 잘 수 있었고, 다음에도 여기에 다시 묵을 계획입니다. 친절한 안내와 정리정돈이 잘 되어 있어서 편안하게 잘 수 있었습니다. 부모님 예약해드렸는데 너무 만족하셨고, 직원들도 모두 친절하시다는 점이 좋았습니다. 전체적으로 깨끗하고 편한 객실이 좋았지만, 배달음식을 시킬 수 없는 것이 아쉬웠습니다. 프론트데스크 분들도 친절하고 방도 깨끗했고, 강릉을 처음 방문했지만 너무 편하고 좋았습니다. 부모님도 편안하게 쉬었다고 하시지만 윗층 소음이 조금 거슬린다는 점이 아쉬웠습니다. 직원분들의 친절함과 깨끗한 객실로 편안한 시간을 보냈습니다. 위치가 좋아 교동으로 오가기 편했고, 주차는 주차타워를 이용해야하는 점이 조금 아쉽지만 전반적으로 좋았습니다. 깨끗하고 편안해서 다음에도 이용하고 싶어요.',\n",
       " '강릉 여행길에 들르는 숙소로 예약을 잘한 호텔입니다. 주인의 품격이 느껴지며 조용하고 좋은 숙소입니다. 로비도 고급스럽고 객실은 깔끔하여 만족스러운 1박을 했습니다. 침구가 편안해 잘 수 있었고, 재방문 의사가 있는 만큼 좋은 평가를 받은 숙소이지요. 친절한 안내와 정돈이 잘 되어 편안한 숙박을 즐길 수 있었으며, 부모님도 만족해하셨다고 합니다. 숙소는 깨끗하고 아늑하며 직원분들도 모두 친절하여 감사하게 생각하고 있습니다. 호텔 프론트분들도 친절하고 업무적용이 편리하여 즐거운 시간을 보내며, 다음번 객실도 편안한 휴식을 즐기실 수 있을 것으로 예상됩니다. 숙소는 교동에 위치해 이동이 용이하며, 주차는 주차타워를 이용해야하는 부분이 조금 아쉽지만, 전체적으로 만족스럽고 재방문하고 싶은 부분이 많이 있습니다. 매력적인 조식 샌드위치와 친절한 직원분들에 대한 추천도 요청합니다.',\n",
       " '강릉 여행길에 들르게 되었는데 아주 예약을 잘 하신 것 같아요. 호텔에서 주인의 품격이 느껴지고, 조용하고 좋아서 만족할 수 있는 곳이었어요. 로비와 객실이 고급스럽고 깔끔해서 1박을 매우 만족스럽게 보낼 수 있었어요. 다음 여행에도 또 이곳에 머물고 싶은 마음이 들 정도로 침구가 너무 편안해서 잠을 잘 수 있었어요. 직원분들의 친절에도 감사하며, 부모님도 편안하게 쉬다오셔서 만족하셨다고 하셔요! 숙소 시설이 깨끗하고 편안하며 외부 음식 관련 사전 안내만 좀 더 있었으면 더 좋았겠다는 생각이 들었어요. 프론트 데스크 분들도 친절하시고 방도 깔끔해서 강릉에서 처음 이용했는데 너무 편안하고 좋은 시간을 보낼 수 있었어요. 재방문 의사가 높은 좋은 경험이었답니다. 위치가 좋아 오가기도 편리하고, 조식 샌드위치도 맛있어서 편안하게 보낼 수 있는 숙소였어요. 주차가 주차타워를 이용해야 한다는 점이 아쉽지만, 쾌적하고 깔끔한 공간에서 지낼 수 있어서 강추드리고 싶어요. 알찬 조식과 청결한 객실에서 편안한 시간을 보낼 수 있었고, 다음 여행에도 또 이용하고 싶은 숙소였어요.']"
      ]
     },
     "execution_count": 33,
     "metadata": {},
     "output_type": "execute_result"
    }
   ],
   "source": [
    "summaries"
   ]
  },
  {
   "cell_type": "markdown",
   "metadata": {},
   "source": [
    "### 응답결과 고도화 3 - one-Shot Prompting"
   ]
  },
  {
   "cell_type": "code",
   "execution_count": 34,
   "metadata": {},
   "outputs": [
    {
     "name": "stderr",
     "output_type": "stream",
     "text": [
      "100%|██████████| 10/10 [00:39<00:00,  3.99s/it]"
     ]
    },
    {
     "name": "stdout",
     "output_type": "stream",
     "text": [
      "Wins: 10, Losses: 0, Ties: 0\n"
     ]
    },
    {
     "name": "stderr",
     "output_type": "stream",
     "text": [
      "\n"
     ]
    }
   ],
   "source": [
    "prompt_1shot = f\"\"\"당신은 요약 전문가입니다. 사용자 숙소 리뷰들이 주어졌을 때 요약하는 것이 당신의 목표입니다. 다음은 리뷰들과 요약 예시입니다.\n",
    "예시 리뷰들:\n",
    "{reviews_1shot}\n",
    "예시 요약 결과:\n",
    "{summary_1shot}\n",
    "    \n",
    "아래 숙소 리뷰들에 대해 요약해주세요:\"\"\"\n",
    "\n",
    "summaries = [summarize(reviews, prompt_1shot, temperature=1.0, model='gpt-3.5-turbo-0125') for _ in range(eval_count)]\n",
    "wins, losses, ties = pairwise_eval_batch(reviews, summaries, [summary_4o_20250530 for _ in range(len(summaries))])\n",
    "print(f'Wins: {wins}, Losses: {losses}, Ties: {ties}')"
   ]
  },
  {
   "cell_type": "markdown",
   "metadata": {},
   "source": [
    "### prompt_1shot을 피클파일로 저장하기"
   ]
  },
  {
   "cell_type": "code",
   "execution_count": 35,
   "metadata": {},
   "outputs": [],
   "source": [
    "# prompt_1shot을 피클파일로 저장하기\n",
    "file_name = \"./res/prompt_1shotv1.pickle\"\n",
    "# 파일로 저장\n",
    "import pickle\n",
    "with open(file_name, 'wb') as f:\n",
    "    pickle.dump(prompt_1shot, f)"
   ]
  },
  {
   "cell_type": "code",
   "execution_count": 36,
   "metadata": {},
   "outputs": [
    {
     "name": "stdout",
     "output_type": "stream",
     "text": [
      "['강릉 여행길에 예약을 잘한 호텔로 주인의 품격과 조용한 환경이 좋았습니다. 로비와 객실이 고급스럽고 깔끔해서 만족스러운 1박이었으며, 침구도 훌륭하여 편안한 휴식을 취할 수 있었습니다. 친절한 안내와 정리정돈이 편안한 숙박을 도와주었고, 부모님도 만족해하셨습니다. 또한 직원들의 친절함과 깨끗한 객실로 편안한 경험을 하였습니다.', '강릉 여행길에 들렀을 때 아주 예약을 잘한 호텔이었습니다. 주인의 품격이 느껴지며 조용하고 좋은 숙소였습니다. 로비도 고급스럽고 객실도 깔끔하여 너무 만족스러운 1박을 했습니다. 침구가 훌륭해서 편안하게 잠을 잘 수 있었고, 다음에 여행을 가면 다시 묵을 의향이 있습니다. 친절한 안내와 정리정돈이 잘 되어 있어 편안하게 머물렀습니다. 부모님도 만족하셨고, 깨끗하고 아늑한 숙소에서 편안한 시간을 보낼 수 있었습니다. 객실은 깨끗하고 편안하며, 직원분들도 친절하여 좋은 경험을 하였습니다. 숙소 위치가 교동에 있어 이동이 편리하며, 주차는 주차타워를 사용해야 하는 것이 조금 단점이지만 출차는 편리하고 전체적으로 깔끔하고 좋은 숙소라고 추천합니다. 따뜻하고 깨끗한 숙소에서 좋은 경험을 했으며, 다음에도 또 방문할 의향이 있습니다.', '강릉 여행길에 들렀을 때 아주 예약을 잘한 호텔이었습니다. 주인의 품격이 느껴지며 조용하고 좋은 숙소였습니다. 로비도 고급스럽고 객실도 깔끔하여 너무 만족스러운 1박을 했습니다. 침구가 훌륭해서 편안하게 잠을 잘 수 있었고, 다음에 여행을 가면 다시 묵을 의향이 있습니다. 친절한 안내와 정리정돈이 잘 되어 있어 편안하게 머물렀습니다. 부모님도 만족하셨고, 깨끗하고 아늑한 숙소에서 편안한 시간을 보낼 수 있었습니다. 객실은 깨끗하고 편안하며, 직원분들도 친절하여 좋은 경험을 하였습니다.', '강릉 여행길에 들렀을 때 아주 예약을 잘한 호텔이었습니다. 주인의 품격이 느껴지며 조용하고 좋은 숙소였습니다. 로비도 고급스럽고 객실도 깔끔하여 너무 만족스러운 1박을 했습니다. 침구가 훌륭해서 편안하게 잠을 잘 수 있었고, 다음에 여행을 가면 다시 묵을 의향이 있습니다. 친절한 안내와 정리정돈이 잘 되어 있어 편안하게 머물렀습니다. 부모님도 만족하셨고, 깨끗하고 아늑한 숙소에서 편안한 시간을 보낼 수 있었습니다.객실은 깨끗하고 편안하며, 직원분들도 친절하여 좋은 경험을 하였습니다.', '강릉 여행길에 들린 호텔은 주인의 품격이 느껴지며 조용하고 좋은 숙소였습니다. 로비와 객실이 고급스럽고 깔끔하여 너무 만족스러운 1박을 했습니다. 침구가 편안해서 잘 수 있었고, 다음에도 묵을 의향이 있습니다. 직원들은 친절하고 정리정돈이 잘 되어 있어 편안하게 머물렀습니다. 또한, 부모님도 만족하시고 깨끗하고 아늑한 숙소에서 편안한 시간을 보낼 수 있었습니다. 객실은 깨끗하고 편안하며 직원들도 친절하여 좋은 경험을 했습니다.', '강릉 여행길에 들렀을 때 아주 예약을 잘한 호텔이었습니다. 주인의 품격이 느껴지며 조용하고 좋은 숙소였습니다. 로비도 고급스럽고 객실도 깔끔하여 너무 만족스러운 1박을 했습니다. 침구가 훌륭해서 편안하게 잠을 잘 수 있었고, 다음에 여행을 가면 다시 묵을 의향이 있습니다. 친절한 안내와 정리정돈이 잘 되어 있어 편안하게 머물렀습니다. 부모님도 만족하셨고, 깨끗하고 아늑한 숙소에서 편안한 시간을 보낼 수 있었습니다. 외부 음식 관련 안내가 필요할 것으로 보입니다. 프론트 데스크 직원도 친절하고 숙소 시설이 깔끔하여 만족스러운 체험을 하였습니다.', '강릉 여행길에 머물렀던 호텔은 주인의 품격을 느낄 수 있는 조용하고 좋은 숙소였습니다. 로비와 객실이 고급스럽고 깔끔해서 너무 만족스러운 1박을 했습니다. 침구가 좋아서 편안하게 잘 수 있었고, 다음에 여행을 가면 다시 묵을 의향이 있습니다. 직원들은 친절하고 안내와 정리정돈이 잘 되어 있어 편안하게 머물렀습니다. 부모님도 만족하셨고, 깨끗하고 아늑한 숙소에서 편안한 시간을 보낼 수 있었습니다. 객실은 깨끗하고 편안하며, 직원들은 매우 친절하여 좋은 경험을 하였습니다.', '강릉 여행길에 예약을 잘한 호텔로 평가받았고, 주인의 품격이 느껴졌으며 조용하고 좋은 숙소였습니다. 로비와 객실이 고급스럽고 깔끔하여 만족스러운 1박을 했으며, 침구가 편안해서 잘 수 있었고 다음 여행 때도 다시 묵을 의향이 있다. 주변 인프라가 좋은 시설이며, 친절한 직원분들과 깨끗하고 편안한 객실에서 편안한 시간을 보낼 수 있었음을 언급했습니다. ', '강릉 여행길에 들린 숙소는 주인의 품격을 느낄 수 있어 예약을 잘한 것 같습니다. 로비와 객실이 깔끔하고 고급스러워 만족스러운 1박을 했으며, 침구도 편안하여 잘 쉴 수 있었습니다. 친절한 안내와 정돈으로 편안한 느낌을 받았고, 부모님도 만족하셨습니다. 전체적으로 깨끗하고 아늑한 숙소이며, 직원들의 친절함이 인상적이었습니다. 외부 음식 관련 안내가 필요할 수도 있지만, 시설이 깔끔하고 택지지구에 위치하여 주변 인프라가 좋았습니다.', '강릉 여행길에 들르면 호텔 주인의 품격과 조용한 환경이 좋았던 숙소입니다. 로비와 객실이 고급스럽고 깔끔하여 만족스러운 1박을 경험했습니다. 친절한 안내와 정돈이 편안한 느낌을 주었고, 부모님도 만족하셨습니다. 숙소는 깨끗하고 아늑하며 직원들의 친절함도 좋았습니다. 또한, 시설이 깔끔하고 인프라가 좋은 택지지구에 위치해 외부 음식 관련 사전 안내가 필요하다는 점이 있습니다.전체적으로 편안하고 깔끔한 숙소로 다시 이용할 의향이 있는 곳입니다.']\n"
     ]
    }
   ],
   "source": [
    "print(summaries)"
   ]
  }
 ],
 "metadata": {
  "kernelspec": {
   "display_name": "llm_env",
   "language": "python",
   "name": "python3"
  },
  "language_info": {
   "codemirror_mode": {
    "name": "ipython",
    "version": 3
   },
   "file_extension": ".py",
   "mimetype": "text/x-python",
   "name": "python",
   "nbconvert_exporter": "python",
   "pygments_lexer": "ipython3",
   "version": "3.12.7"
  }
 },
 "nbformat": 4,
 "nbformat_minor": 4
}
